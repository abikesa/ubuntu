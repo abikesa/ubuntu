{
 "cells": [
  {
   "cell_type": "markdown",
   "metadata": {},
   "source": [
    "# Loyal\n",
    "\n",
    "- [nonself](abikesa.github.io/nonself-powerplay/index.html)[.](./../../myhtml/0-ukusoma.html)tension[-](./../../myhtml/1-nonself.html)powerplay\n",
    "- [self](abikesa.github.io/self-parasympathetic/index.html)[.](./../../myhtml/2-self.html)release\n",
    "- [reframe](abikesa.github.io/reframe-conflict/index.html)-sus[.](./../../myhtml/3-reframe.html)conflict\n",
    "- [boundaries](abikesa.github.io/boundaries-fractal/index.html)[.](./../../myhtml/4-boundaries.html)fractal\n",
    "- [authorship](abikesa.github.io/authorship-scaling/index.html)[.](./../../myhtml/5-authorship.html)scale-culture.viral"
   ]
  }
 ],
 "metadata": {
  "kernelspec": {
   "display_name": "myenv",
   "language": "python",
   "name": "python3"
  },
  "language_info": {
   "codemirror_mode": {
    "name": "ipython",
    "version": 3
   },
   "file_extension": ".py",
   "mimetype": "text/x-python",
   "name": "python",
   "nbconvert_exporter": "python",
   "pygments_lexer": "ipython3",
   "version": "3.12.4"
  },
  "widgets": {
   "application/vnd.jupyter.widget-state+json": {
    "state": {},
    "version_major": 2,
    "version_minor": 0
   }
  }
 },
 "nbformat": 4,
 "nbformat_minor": 4
}
